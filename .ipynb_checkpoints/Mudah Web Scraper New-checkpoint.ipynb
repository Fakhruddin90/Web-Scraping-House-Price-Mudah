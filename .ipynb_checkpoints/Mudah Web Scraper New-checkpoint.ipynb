{
 "cells": [
  {
   "cell_type": "markdown",
   "metadata": {},
   "source": [
    "# Mudah.my House Scraper"
   ]
  },
  {
   "cell_type": "code",
   "execution_count": null,
   "metadata": {},
   "outputs": [
    {
     "name": "stdout",
     "output_type": "stream",
     "text": [
      "Please insert url to scrape: https://www.mudah.my/negeri-sembilan/houses-for-sale-2040?o=\n",
      "Please insert maximum page to scrape: 234\n",
      "Please input csv filename: negeri-sembilan-house-for-sale\n"
     ]
    }
   ],
   "source": [
    "%%time\n",
    "# measure the execution time\n",
    "\n",
    "# run this code if selenium packages not install in your machine\n",
    "# !pip install selenium\n",
    "\n",
    "# import packages\n",
    "from selenium import webdriver\n",
    "import pandas as pd\n",
    "import time\n",
    "\n",
    "# create variables array for storing informations\n",
    "house_titles = []\n",
    "house_types = []\n",
    "house_prices = []\n",
    "house_bedrooms = []\n",
    "house_bathrooms = []\n",
    "house_areas = []\n",
    "house_locations = []\n",
    "house_releases_date = []\n",
    "house_urls = []\n",
    "\n",
    "def scrape(main_url, pages):\n",
    "    \n",
    "    # load chrome browser\n",
    "    driver = webdriver.Chrome()\n",
    "\n",
    "    # dynamic url for pages\n",
    "    def get_url(main_url, page):\n",
    "        \"\"\"Generate url by page\"\"\"\n",
    "        #     url ='https://www.mudah.my/putrajaya/houses-for-sale-2040?o=' + str(page)\n",
    "        url = main_url + str(page)\n",
    "        return url\n",
    "\n",
    "    # ask user to input maximum page that need to be scrap\n",
    "    # max_page = driver.find_element_by_xpath('//*[@id=\"__next\"]/div[3]/div[1]').text[-3:]\n",
    "    # max_page = int(max_page)\n",
    "    #max_page = int(input(\"Please insert maximum page to scrap: \"))\n",
    "\n",
    "    # iterate code by page\n",
    "    for page in range(1,pages+1):\n",
    "        url = get_url(main_url, page)\n",
    "        driver.get(url)\n",
    "\n",
    "        # fetch information using xpath\n",
    "        titles = driver.find_elements_by_xpath('//*[@id=\"__next\"]/div[3]/div[4]/div[1]/div/div[2]/a')\n",
    "        types = driver.find_elements_by_xpath('//*[@id=\"__next\"]/div[3]/div[4]/div[1]/div/div[2]/div[2]/div[1]/div')\n",
    "        prices = driver.find_elements_by_xpath('//*[@id=\"__next\"]/div[3]/div[4]/div[1]/div/div[2]/div[1]/div')\n",
    "        bedrooms = driver.find_elements_by_xpath('//*[@id=\"__next\"]/div[3]/div[4]/div[1]/div/div[2]/div[2]/div[3]/div')\n",
    "        bathrooms = driver.find_elements_by_xpath('//*[@id=\"__next\"]/div[3]/div[4]/div[1]/div/div[2]/div[2]/div[4]/div')\n",
    "        areas = driver.find_elements_by_xpath('//*[@id=\"__next\"]/div[3]/div[4]/div[1]/div/div[2]/div[2]/div[2]/div')\n",
    "        locations = driver.find_elements_by_xpath('//*[@id=\"__next\"]/div[3]/div[4]/div[1]/div/div[3]/div[1]/span[2]/span')\n",
    "        releases_date = driver.find_elements_by_xpath('//*[@id=\"__next\"]/div[3]/div[4]/div[1]/div/div[3]/div[1]/span[1]/span')\n",
    "        urls = driver.find_elements_by_xpath('//*[@id=\"__next\"]/div[3]/div[4]/div[1]/div/div[2]/a')\n",
    "\n",
    "        # loop through the iterations and append in the arrays\n",
    "        for title in titles:\n",
    "            house_titles.append(title.text)\n",
    "        \n",
    "        for type_ in types:\n",
    "            house_types.append(type_.text)\n",
    "\n",
    "        for price in prices:\n",
    "            house_prices.append(price.text)\n",
    "\n",
    "        for bedroom in bedrooms:\n",
    "            house_bedrooms.append(bedroom.text)\n",
    "\n",
    "        for bathroom in bathrooms:\n",
    "            house_bathrooms.append(bathroom.text)\n",
    "\n",
    "        for area in areas:\n",
    "            house_areas.append(area.text)\n",
    "\n",
    "        for location in locations:\n",
    "            house_locations.append(location.text)\n",
    "\n",
    "        for release_date in releases_date:\n",
    "            house_releases_date.append(release_date.text)\n",
    "\n",
    "        for url in urls:\n",
    "            house_urls.append(url.get_attribute('href'))\n",
    "\n",
    "    #     time.sleep(0.5)\n",
    "    \n",
    "    # quit the browser\n",
    "    driver.quit()\n",
    "\n",
    "\n",
    "# export dataframe into csv file\n",
    "def save_to_csv(filetitle, df):\n",
    "    import datetime as dt\n",
    "    #extract dataframe to csv files\n",
    "    x = dt.datetime.now()\n",
    "    today = x.strftime(\"%d%m%Y-%H%M\") #date should be in string format in order to insert in filename\n",
    "    fileName = f'./data/{filetitle}-{today}.csv'\n",
    "    df.to_csv(fileName, index=False)\n",
    "\n",
    "\n",
    "def main():\n",
    "    \n",
    "    main_url = str(input(\"Please insert url to scrape: \"))\n",
    "    pages = int(input(\"Please insert maximum page to scrape: \"))\n",
    "    filetitle = str(input(\"Please input csv filename: \"))\n",
    "    \n",
    "    # run scrape() function\n",
    "    scrape(main_url, pages)\n",
    "    \n",
    "    # extract to pandas dataframe\n",
    "    # store the value in dataframe\n",
    "    df = pd.DataFrame({\n",
    "        \"Title\":house_titles,\n",
    "        \"Types\":house_types,\n",
    "        \"Price\":house_prices,\n",
    "        \"Bedrooms\":house_bedrooms, \n",
    "        \"Bathrooms\":house_bathrooms, \n",
    "        \"Areas\":house_areas, \n",
    "        \"Location\":house_locations,\n",
    "        \"Release Date\":house_releases_date,\n",
    "        \"Url\":house_urls\n",
    "    })\n",
    "    \n",
    "    # run save_to_csv() function\n",
    "    save_to_csv(filetitle, df)\n",
    "    \n",
    "    return df\n",
    "\n",
    "data = main()"
   ]
  },
  {
   "cell_type": "code",
   "execution_count": 16,
   "metadata": {},
   "outputs": [
    {
     "data": {
      "text/html": [
       "<div>\n",
       "<style scoped>\n",
       "    .dataframe tbody tr th:only-of-type {\n",
       "        vertical-align: middle;\n",
       "    }\n",
       "\n",
       "    .dataframe tbody tr th {\n",
       "        vertical-align: top;\n",
       "    }\n",
       "\n",
       "    .dataframe thead th {\n",
       "        text-align: right;\n",
       "    }\n",
       "</style>\n",
       "<table border=\"1\" class=\"dataframe\">\n",
       "  <thead>\n",
       "    <tr style=\"text-align: right;\">\n",
       "      <th></th>\n",
       "      <th>Title</th>\n",
       "      <th>Types</th>\n",
       "      <th>Price</th>\n",
       "      <th>Bedrooms</th>\n",
       "      <th>Bathrooms</th>\n",
       "      <th>Areas</th>\n",
       "      <th>Location</th>\n",
       "      <th>Release Date</th>\n",
       "      <th>Url</th>\n",
       "    </tr>\n",
       "  </thead>\n",
       "  <tbody>\n",
       "    <tr>\n",
       "      <th>0</th>\n",
       "      <td>(FULLY FURNISHED 2STOREY) Laman Villa Lavender...</td>\n",
       "      <td>Houses</td>\n",
       "      <td>RM 610 000</td>\n",
       "      <td>4 Bedrooms</td>\n",
       "      <td>3 Bathrooms</td>\n",
       "      <td>3318 sq.ft.</td>\n",
       "      <td>Senawang</td>\n",
       "      <td>Today, 23:15</td>\n",
       "      <td>https://www.mudah.my/+FULLY+FURNISHED+2STOREY+...</td>\n",
       "    </tr>\n",
       "    <tr>\n",
       "      <th>1</th>\n",
       "      <td>Single Storey intermediate Taman Vista Jaya, L...</td>\n",
       "      <td>Houses</td>\n",
       "      <td>RM 125 000</td>\n",
       "      <td>3 Bedrooms</td>\n",
       "      <td>2 Bathrooms</td>\n",
       "      <td>1100 sq.ft.</td>\n",
       "      <td>Port Dickson</td>\n",
       "      <td>Today, 23:14</td>\n",
       "      <td>https://www.mudah.my/Single+Storey+intermediat...</td>\n",
       "    </tr>\n",
       "    <tr>\n",
       "      <th>2</th>\n",
       "      <td>End lot unit.konsep moden</td>\n",
       "      <td>Houses</td>\n",
       "      <td>RM 365 000</td>\n",
       "      <td>3 Bedrooms</td>\n",
       "      <td>3 Bathrooms</td>\n",
       "      <td>1207 sq.ft.</td>\n",
       "      <td>Seremban</td>\n",
       "      <td>Today, 23:10</td>\n",
       "      <td>https://www.mudah.my/End+lot+unit+konsep+moden...</td>\n",
       "    </tr>\n",
       "    <tr>\n",
       "      <th>3</th>\n",
       "      <td>Banglow.ukiran dalaman yang menarik</td>\n",
       "      <td>Houses</td>\n",
       "      <td>RM 850 000</td>\n",
       "      <td>4 Bedrooms</td>\n",
       "      <td>3 Bathrooms</td>\n",
       "      <td>4500 sq.ft.</td>\n",
       "      <td>Senawang</td>\n",
       "      <td>Today, 23:10</td>\n",
       "      <td>https://www.mudah.my/Banglow+ukiran+dalaman+ya...</td>\n",
       "    </tr>\n",
       "    <tr>\n",
       "      <th>4</th>\n",
       "      <td>Prima House Lukut near Tesco PD</td>\n",
       "      <td>Houses</td>\n",
       "      <td>RM 221 616</td>\n",
       "      <td>4 Bedrooms</td>\n",
       "      <td>3 Bathrooms</td>\n",
       "      <td>1535 sq.ft.</td>\n",
       "      <td>Port Dickson</td>\n",
       "      <td>Today, 23:05</td>\n",
       "      <td>https://www.mudah.my/Prima+House+Lukut+near+Te...</td>\n",
       "    </tr>\n",
       "    <tr>\n",
       "      <th>...</th>\n",
       "      <td>...</td>\n",
       "      <td>...</td>\n",
       "      <td>...</td>\n",
       "      <td>...</td>\n",
       "      <td>...</td>\n",
       "      <td>...</td>\n",
       "      <td>...</td>\n",
       "      <td>...</td>\n",
       "      <td>...</td>\n",
       "    </tr>\n",
       "    <tr>\n",
       "      <th>195</th>\n",
       "      <td>Taman mawar ehsan* rumah idaman teres 2 tingka...</td>\n",
       "      <td>Houses</td>\n",
       "      <td>RM 359 820</td>\n",
       "      <td>4 Bedrooms</td>\n",
       "      <td>3 Bathrooms</td>\n",
       "      <td>2000 sq.ft.</td>\n",
       "      <td>Pedas</td>\n",
       "      <td>Today, 13:50</td>\n",
       "      <td>https://www.mudah.my/Taman+mawar+ehsan+rumah+i...</td>\n",
       "    </tr>\n",
       "    <tr>\n",
       "      <th>196</th>\n",
       "      <td>Single storey terrace house taman seremban 3</td>\n",
       "      <td>Houses</td>\n",
       "      <td>RM 290 000</td>\n",
       "      <td>3 Bedrooms</td>\n",
       "      <td>2 Bathrooms</td>\n",
       "      <td>1300 sq.ft.</td>\n",
       "      <td>Seremban</td>\n",
       "      <td>Today, 13:50</td>\n",
       "      <td>https://www.mudah.my/Single+storey+terrace+hou...</td>\n",
       "    </tr>\n",
       "    <tr>\n",
       "      <th>197</th>\n",
       "      <td>[HOT] 20 x 65 FreeHold Double Storey Garden Su...</td>\n",
       "      <td>Houses</td>\n",
       "      <td>RM 285 000</td>\n",
       "      <td>4 Bedrooms</td>\n",
       "      <td>4 Bathrooms</td>\n",
       "      <td>2580 sq.ft.</td>\n",
       "      <td>Pasir Panjang</td>\n",
       "      <td>Today, 13:48</td>\n",
       "      <td>https://www.mudah.my/+HOT+20+x+65+FreeHold+Dou...</td>\n",
       "    </tr>\n",
       "    <tr>\n",
       "      <th>198</th>\n",
       "      <td>Single Storey Bungalow, D’Venea Residence, Tam...</td>\n",
       "      <td>Houses</td>\n",
       "      <td>RM 585 000</td>\n",
       "      <td>4 Bedrooms</td>\n",
       "      <td>3 Bathrooms</td>\n",
       "      <td>2200 sq.ft.</td>\n",
       "      <td>Seremban</td>\n",
       "      <td>Today, 13:46</td>\n",
       "      <td>https://www.mudah.my/Single+Storey+Bungalow+D+...</td>\n",
       "    </tr>\n",
       "    <tr>\n",
       "      <th>199</th>\n",
       "      <td>Corner Lot LAST CALL!!! [Biggest House 2-Sty 5...</td>\n",
       "      <td>Houses</td>\n",
       "      <td>RM 390 000</td>\n",
       "      <td>5 Bedrooms</td>\n",
       "      <td>5 Bathrooms</td>\n",
       "      <td>3558 sq.ft.</td>\n",
       "      <td>Nilai</td>\n",
       "      <td>Today, 13:46</td>\n",
       "      <td>https://www.mudah.my/Corner+Lot+LAST+CALL+Bigg...</td>\n",
       "    </tr>\n",
       "  </tbody>\n",
       "</table>\n",
       "<p>200 rows × 9 columns</p>\n",
       "</div>"
      ],
      "text/plain": [
       "                                                 Title   Types       Price  \\\n",
       "0    (FULLY FURNISHED 2STOREY) Laman Villa Lavender...  Houses  RM 610 000   \n",
       "1    Single Storey intermediate Taman Vista Jaya, L...  Houses  RM 125 000   \n",
       "2                            End lot unit.konsep moden  Houses  RM 365 000   \n",
       "3                  Banglow.ukiran dalaman yang menarik  Houses  RM 850 000   \n",
       "4                      Prima House Lukut near Tesco PD  Houses  RM 221 616   \n",
       "..                                                 ...     ...         ...   \n",
       "195  Taman mawar ehsan* rumah idaman teres 2 tingka...  Houses  RM 359 820   \n",
       "196       Single storey terrace house taman seremban 3  Houses  RM 290 000   \n",
       "197  [HOT] 20 x 65 FreeHold Double Storey Garden Su...  Houses  RM 285 000   \n",
       "198  Single Storey Bungalow, D’Venea Residence, Tam...  Houses  RM 585 000   \n",
       "199  Corner Lot LAST CALL!!! [Biggest House 2-Sty 5...  Houses  RM 390 000   \n",
       "\n",
       "       Bedrooms    Bathrooms        Areas       Location  Release Date  \\\n",
       "0    4 Bedrooms  3 Bathrooms  3318 sq.ft.       Senawang  Today, 23:15   \n",
       "1    3 Bedrooms  2 Bathrooms  1100 sq.ft.   Port Dickson  Today, 23:14   \n",
       "2    3 Bedrooms  3 Bathrooms  1207 sq.ft.       Seremban  Today, 23:10   \n",
       "3    4 Bedrooms  3 Bathrooms  4500 sq.ft.       Senawang  Today, 23:10   \n",
       "4    4 Bedrooms  3 Bathrooms  1535 sq.ft.   Port Dickson  Today, 23:05   \n",
       "..          ...          ...          ...            ...           ...   \n",
       "195  4 Bedrooms  3 Bathrooms  2000 sq.ft.          Pedas  Today, 13:50   \n",
       "196  3 Bedrooms  2 Bathrooms  1300 sq.ft.       Seremban  Today, 13:50   \n",
       "197  4 Bedrooms  4 Bathrooms  2580 sq.ft.  Pasir Panjang  Today, 13:48   \n",
       "198  4 Bedrooms  3 Bathrooms  2200 sq.ft.       Seremban  Today, 13:46   \n",
       "199  5 Bedrooms  5 Bathrooms  3558 sq.ft.          Nilai  Today, 13:46   \n",
       "\n",
       "                                                   Url  \n",
       "0    https://www.mudah.my/+FULLY+FURNISHED+2STOREY+...  \n",
       "1    https://www.mudah.my/Single+Storey+intermediat...  \n",
       "2    https://www.mudah.my/End+lot+unit+konsep+moden...  \n",
       "3    https://www.mudah.my/Banglow+ukiran+dalaman+ya...  \n",
       "4    https://www.mudah.my/Prima+House+Lukut+near+Te...  \n",
       "..                                                 ...  \n",
       "195  https://www.mudah.my/Taman+mawar+ehsan+rumah+i...  \n",
       "196  https://www.mudah.my/Single+storey+terrace+hou...  \n",
       "197  https://www.mudah.my/+HOT+20+x+65+FreeHold+Dou...  \n",
       "198  https://www.mudah.my/Single+Storey+Bungalow+D+...  \n",
       "199  https://www.mudah.my/Corner+Lot+LAST+CALL+Bigg...  \n",
       "\n",
       "[200 rows x 9 columns]"
      ]
     },
     "execution_count": 16,
     "metadata": {},
     "output_type": "execute_result"
    }
   ],
   "source": [
    "data"
   ]
  },
  {
   "cell_type": "code",
   "execution_count": 17,
   "metadata": {},
   "outputs": [],
   "source": [
    "data['Price'] = data['Price'].replace({\"RM\":\"\", \" \":\"\"}, regex=True)\n",
    "data['Bedrooms'] = data['Bedrooms'].replace({\"Bedrooms\":\"\", \"Bedroom\":\"\", \" \":\"\"}, regex=True)\n",
    "data['Bathrooms'] = data['Bathrooms'].replace({\"Bathrooms\":\"\", \"Bathroom\":\"\",\" \":\"\"}, regex=True)\n",
    "data['Areas'] = data['Areas'].replace({\"sq.ft.\":\"\", \" \":\"\"}, regex=True)"
   ]
  },
  {
   "cell_type": "code",
   "execution_count": 18,
   "metadata": {},
   "outputs": [],
   "source": [
    "data['Bedrooms'] = data['Bedrooms'].replace({\"Morethan10\":\"10\"})\n",
    "data['Bedrooms'] = data['Bedrooms'].astype(int)"
   ]
  },
  {
   "cell_type": "code",
   "execution_count": 19,
   "metadata": {},
   "outputs": [],
   "source": [
    "data['Bathrooms'] = data['Bathrooms'].replace({\"Morethan10\":\"10\"})\n",
    "data['Bathrooms'] = data['Bathrooms'].astype(int)"
   ]
  },
  {
   "cell_type": "code",
   "execution_count": 20,
   "metadata": {},
   "outputs": [
    {
     "data": {
      "text/plain": [
       "Title           object\n",
       "Types           object\n",
       "Price           object\n",
       "Bedrooms         int32\n",
       "Bathrooms        int32\n",
       "Areas           object\n",
       "Location        object\n",
       "Release Date    object\n",
       "Url             object\n",
       "dtype: object"
      ]
     },
     "execution_count": 20,
     "metadata": {},
     "output_type": "execute_result"
    }
   ],
   "source": [
    "data.dtypes"
   ]
  },
  {
   "cell_type": "code",
   "execution_count": 21,
   "metadata": {},
   "outputs": [
    {
     "data": {
      "text/plain": [
       "Title           object\n",
       "Types           object\n",
       "Price           object\n",
       "Bedrooms         int32\n",
       "Bathrooms        int32\n",
       "Areas           object\n",
       "Location        object\n",
       "Release Date    object\n",
       "Url             object\n",
       "dtype: object"
      ]
     },
     "execution_count": 21,
     "metadata": {},
     "output_type": "execute_result"
    }
   ],
   "source": [
    "# del data['Bathromms']\n",
    "data.dtypes"
   ]
  },
  {
   "cell_type": "code",
   "execution_count": 22,
   "metadata": {},
   "outputs": [
    {
     "data": {
      "text/plain": [
       "Title            object\n",
       "Types            object\n",
       "Price           float64\n",
       "Bedrooms          int32\n",
       "Bathrooms         int32\n",
       "Areas             int32\n",
       "Location         object\n",
       "Release Date     object\n",
       "Url              object\n",
       "dtype: object"
      ]
     },
     "execution_count": 22,
     "metadata": {},
     "output_type": "execute_result"
    }
   ],
   "source": [
    "data['Price'] = data['Price'].replace({\"1200permonth\":\"1200\"})\n",
    "data['Areas'] = data['Areas'].astype(int)\n",
    "data['Price'] = data['Price'].astype(float)\n",
    "\n",
    "data.dtypes"
   ]
  },
  {
   "cell_type": "code",
   "execution_count": 23,
   "metadata": {},
   "outputs": [
    {
     "data": {
      "text/plain": [
       "Title            object\n",
       "Types            object\n",
       "Price           float64\n",
       "Bedrooms          int32\n",
       "Bathrooms         int32\n",
       "Areas             int32\n",
       "Location         object\n",
       "Release Date     object\n",
       "Url              object\n",
       "dtype: object"
      ]
     },
     "execution_count": 23,
     "metadata": {},
     "output_type": "execute_result"
    }
   ],
   "source": [
    "data.dtypes"
   ]
  },
  {
   "cell_type": "code",
   "execution_count": 37,
   "metadata": {},
   "outputs": [],
   "source": [
    "data.to_csv(f\"./data/negeri-sembilan-house-sale-26022021.csv\", index=False)\n",
    "# import datetime as dt\n",
    "# today = dt.datetime.now()\n",
    "# filepath = f'/content/drive/MyDrive/House-Price/negeri-sembilan-house-sale-{today}.csv'\n",
    "# data.to_csv(filepath, index=False)"
   ]
  },
  {
   "cell_type": "code",
   "execution_count": null,
   "metadata": {},
   "outputs": [],
   "source": [
    "data_describe = data.describe()\n",
    "data_describe"
   ]
  },
  {
   "cell_type": "code",
   "execution_count": null,
   "metadata": {},
   "outputs": [],
   "source": [
    "data.info()"
   ]
  },
  {
   "cell_type": "code",
   "execution_count": null,
   "metadata": {},
   "outputs": [],
   "source": [
    "data.tail()"
   ]
  },
  {
   "cell_type": "code",
   "execution_count": null,
   "metadata": {},
   "outputs": [],
   "source": [
    "data.head()"
   ]
  },
  {
   "cell_type": "code",
   "execution_count": null,
   "metadata": {},
   "outputs": [],
   "source": [
    "data.shape"
   ]
  },
  {
   "cell_type": "code",
   "execution_count": null,
   "metadata": {},
   "outputs": [],
   "source": [
    "data['Price']"
   ]
  },
  {
   "cell_type": "code",
   "execution_count": null,
   "metadata": {},
   "outputs": [],
   "source": []
  }
 ],
 "metadata": {
  "kernelspec": {
   "display_name": "Python 3",
   "language": "python",
   "name": "python3"
  },
  "language_info": {
   "codemirror_mode": {
    "name": "ipython",
    "version": 3
   },
   "file_extension": ".py",
   "mimetype": "text/x-python",
   "name": "python",
   "nbconvert_exporter": "python",
   "pygments_lexer": "ipython3",
   "version": "3.8.5"
  }
 },
 "nbformat": 4,
 "nbformat_minor": 4
}
