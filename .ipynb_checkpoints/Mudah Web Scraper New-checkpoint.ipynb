{
 "cells": [
  {
   "cell_type": "markdown",
   "metadata": {},
   "source": [
    "# Mudah.my House Scraper"
   ]
  },
  {
   "cell_type": "code",
   "execution_count": null,
   "metadata": {},
   "outputs": [],
   "source": [
    "!pip install selenium"
   ]
  },
  {
   "cell_type": "code",
   "execution_count": null,
   "metadata": {},
   "outputs": [],
   "source": [
    "%%time\n",
    "# measure the execution time\n",
    "\n",
    "# run this code if selenium packages not install in your machine\n",
    "# !pip install selenium\n",
    "\n",
    "# import packages\n",
    "from selenium import webdriver\n",
    "import pandas as pd\n",
    "import time\n",
    "\n",
    "# create variables array for storing informations\n",
    "house_titles = []\n",
    "house_types = []\n",
    "house_prices = []\n",
    "house_bedrooms = []\n",
    "house_bathrooms = []\n",
    "house_areas = []\n",
    "house_locations = []\n",
    "house_releases_date = []\n",
    "house_urls = []\n",
    "\n",
    "def scrape(main_url, pages):\n",
    "    \n",
    "    # load chrome browser\n",
    "    # for macos\n",
    "    # webdriver_path = '/Users/fakhruddinmohamadsaupe/Documents/Development/JupyterNotebook/Web-Scraping-House-Price-Mudah_my'\n",
    "    driver = webdriver.Safari()\n",
    "\n",
    "    # for windows \n",
    "    # driver = webdriver.Chrome()\n",
    "    \n",
    "    # dynamic url for pages\n",
    "    def get_url(main_url, page):\n",
    "        \"\"\"Generate url by page\"\"\"\n",
    "        #     url ='https://www.mudah.my/putrajaya/houses-for-sale-2040?o=' + str(page)\n",
    "        url = main_url + str(page)\n",
    "        return url\n",
    "\n",
    "    # ask user to input maximum page that need to be scrap\n",
    "    # max_page = driver.find_element_by_xpath('//*[@id=\"__next\"]/div[3]/div[1]').text[-3:]\n",
    "    # max_page = int(max_page)\n",
    "    #max_page = int(input(\"Please insert maximum page to scrap: \"))\n",
    "\n",
    "    # iterate code by page\n",
    "    for page in range(1,pages+1):\n",
    "        url = get_url(main_url, page)\n",
    "        driver.get(url)\n",
    "\n",
    "        # fetch information using xpath\n",
    "        titles = driver.find_elements_by_xpath('//*[@id=\"__next\"]/div[3]/div[4]/div[1]/div/div[2]/a')\n",
    "        types = driver.find_elements_by_xpath('//*[@id=\"__next\"]/div[3]/div[4]/div[1]/div/div[2]/div[2]/div[1]/div')\n",
    "        prices = driver.find_elements_by_xpath('//*[@id=\"__next\"]/div[3]/div[4]/div[1]/div/div[2]/div[1]/div')\n",
    "        bedrooms = driver.find_elements_by_xpath('//*[@id=\"__next\"]/div[3]/div[4]/div[1]/div/div[2]/div[2]/div[3]/div')\n",
    "        bathrooms = driver.find_elements_by_xpath('//*[@id=\"__next\"]/div[3]/div[4]/div[1]/div/div[2]/div[2]/div[4]/div')\n",
    "        areas = driver.find_elements_by_xpath('//*[@id=\"__next\"]/div[3]/div[4]/div[1]/div/div[2]/div[2]/div[2]/div')\n",
    "        locations = driver.find_elements_by_xpath('//*[@id=\"__next\"]/div[3]/div[4]/div[1]/div/div[3]/div[1]/span[2]/span')\n",
    "        releases_date = driver.find_elements_by_xpath('//*[@id=\"__next\"]/div[3]/div[4]/div[1]/div/div[3]/div[1]/span[1]/span')\n",
    "        urls = driver.find_elements_by_xpath('//*[@id=\"__next\"]/div[3]/div[4]/div[1]/div/div[2]/a')\n",
    "\n",
    "        # loop through the iterations and append in the arrays\n",
    "        for title in titles:\n",
    "            house_titles.append(title.text)\n",
    "        \n",
    "        for type_ in types:\n",
    "            house_types.append(type_.text)\n",
    "\n",
    "        for price in prices:\n",
    "            house_prices.append(price.text)\n",
    "\n",
    "        for bedroom in bedrooms:\n",
    "            house_bedrooms.append(bedroom.text)\n",
    "\n",
    "        for bathroom in bathrooms:\n",
    "            house_bathrooms.append(bathroom.text)\n",
    "\n",
    "        for area in areas:\n",
    "            house_areas.append(area.text)\n",
    "\n",
    "        for location in locations:\n",
    "            house_locations.append(location.text)\n",
    "\n",
    "        for release_date in releases_date:\n",
    "            house_releases_date.append(release_date.text)\n",
    "\n",
    "        for url in urls:\n",
    "            house_urls.append(url.get_attribute('href'))\n",
    "\n",
    "    #     time.sleep(0.5)\n",
    "    \n",
    "    # quit the browser\n",
    "    driver.quit()\n",
    "\n",
    "\n",
    "# export dataframe into csv file\n",
    "def save_to_csv(filetitle, df):\n",
    "    import datetime as dt\n",
    "    #extract dataframe to csv files\n",
    "    x = dt.datetime.now()\n",
    "    today = x.strftime(\"%d%m%Y-%H%M\") #date should be in string format in order to insert in filename\n",
    "    fileName = f'./data/{filetitle}-{today}.csv'\n",
    "    df.to_csv(fileName, index=False)\n",
    "\n",
    "\n",
    "def main():\n",
    "    \n",
    "    main_url = str(input(\"Please insert url to scrape: \"))\n",
    "    pages = int(input(\"Please insert maximum page to scrape: \"))\n",
    "    filetitle = str(input(\"Please input csv filename: \"))\n",
    "    \n",
    "    # run scrape() function\n",
    "    scrape(main_url, pages)\n",
    "    \n",
    "    # extract to pandas dataframe\n",
    "    # store the value in dataframe\n",
    "    df = pd.DataFrame({\n",
    "        \"Title\":house_titles,\n",
    "        \"Types\":house_types,\n",
    "        \"Price\":house_prices,\n",
    "        \"Bedrooms\":house_bedrooms, \n",
    "        \"Bathrooms\":house_bathrooms, \n",
    "        \"Areas\":house_areas, \n",
    "        \"Location\":house_locations,\n",
    "        \"Release Date\":house_releases_date,\n",
    "        \"Url\":house_urls\n",
    "    })\n",
    "    \n",
    "    # run save_to_csv() function\n",
    "    save_to_csv(filetitle, df)\n",
    "    \n",
    "    return df\n",
    "\n",
    "data = main()"
   ]
  },
  {
   "cell_type": "code",
   "execution_count": null,
   "metadata": {},
   "outputs": [],
   "source": [
    "data"
   ]
  },
  {
   "cell_type": "code",
   "execution_count": null,
   "metadata": {},
   "outputs": [],
   "source": [
    "data['Price'] = data['Price'].replace({\"RM\":\"\", \" \":\"\"}, regex=True)\n",
    "data['Bedrooms'] = data['Bedrooms'].replace({\"Bedrooms\":\"\", \"Bedroom\":\"\", \" \":\"\"}, regex=True)\n",
    "data['Bathrooms'] = data['Bathrooms'].replace({\"Bathrooms\":\"\", \"Bathroom\":\"\",\" \":\"\"}, regex=True)\n",
    "data['Areas'] = data['Areas'].replace({\"sq.ft.\":\"\", \" \":\"\"}, regex=True)"
   ]
  },
  {
   "cell_type": "code",
   "execution_count": null,
   "metadata": {},
   "outputs": [],
   "source": [
    "data['Price']=data['Price'].replace({\"permonth\":\"\"},regex=True)"
   ]
  },
  {
   "cell_type": "code",
   "execution_count": null,
   "metadata": {},
   "outputs": [],
   "source": [
    "data"
   ]
  },
  {
   "cell_type": "code",
   "execution_count": null,
   "metadata": {},
   "outputs": [],
   "source": [
    "data['Bedrooms'] = data['Bedrooms'].replace({\"Morethan10\":\"10\"})\n",
    "# data['Bedrooms'] = data['Bedrooms'].astype(int)"
   ]
  },
  {
   "cell_type": "code",
   "execution_count": null,
   "metadata": {},
   "outputs": [],
   "source": [
    "data.dtypes"
   ]
  },
  {
   "cell_type": "code",
   "execution_count": null,
   "metadata": {},
   "outputs": [],
   "source": [
    "#data['Bathrooms'] = data['Bathrooms'].replace({\"Morethan10\":\"10\"})\n",
    "data['Bathrooms'] = data['Bathrooms'].astype(int)\n",
    "data.dtypes"
   ]
  },
  {
   "cell_type": "code",
   "execution_count": null,
   "metadata": {},
   "outputs": [],
   "source": [
    "data['Bedrooms'] = data['Bedrooms'].astype(int)\n",
    "data.dtypes"
   ]
  },
  {
   "cell_type": "code",
   "execution_count": null,
   "metadata": {},
   "outputs": [],
   "source": [
    "# del data['Bathromms']\n",
    "data.dtypes"
   ]
  },
  {
   "cell_type": "code",
   "execution_count": null,
   "metadata": {},
   "outputs": [],
   "source": [
    "# data['Price'] = data['Price'].replace({\"1200permonth\":\"1200\"})\n",
    "\n",
    "data['Areas'] = data['Areas'].astype(int)\n",
    "data['Price'] = data['Price'].astype(float)\n",
    "\n",
    "data.dtypes"
   ]
  },
  {
   "cell_type": "code",
   "execution_count": null,
   "metadata": {},
   "outputs": [],
   "source": [
    "data['Bathrooms']=data['Bathrooms'].astype(int)\n",
    "data['Bedrooms']=data['Bedrooms'].astype(int)\n",
    "\n",
    "data.dtypes"
   ]
  },
  {
   "cell_type": "code",
   "execution_count": null,
   "metadata": {},
   "outputs": [],
   "source": [
    "# import datetime as dt\n",
    "# today = dt.datetime.now()\n",
    "# filepath = f'/content/drive/MyDrive/House-Price/negeri-sembilan-house-sale-{today}.csv'\n",
    "# data.to_csv(filepath, index=False)\n",
    "\n",
    "import datetime\n",
    "x = datetime.datetime.now()\n",
    "d = x.strftime(\"%d\")\n",
    "m = x.strftime(\"%m\")\n",
    "Y = x.strftime(\"%Y\")\n",
    "current_date = d+m+Y\n",
    "save_path = f\"./data/penang_house_{current_date}.csv\"\n",
    "\n",
    "print(save_path)\n",
    "try:\n",
    "    data.to_csv(save_path, index=False)\n",
    "    print(\"Successfully saved\")\n",
    "except:\n",
    "    print(\"Failed to save!\")\n"
   ]
  },
  {
   "cell_type": "code",
   "execution_count": null,
   "metadata": {},
   "outputs": [],
   "source": [
    "data_describe = data.describe()\n",
    "data_describe"
   ]
  },
  {
   "cell_type": "code",
   "execution_count": null,
   "metadata": {},
   "outputs": [],
   "source": [
    "data.info()"
   ]
  },
  {
   "cell_type": "code",
   "execution_count": null,
   "metadata": {},
   "outputs": [],
   "source": [
    "data.tail()"
   ]
  },
  {
   "cell_type": "code",
   "execution_count": null,
   "metadata": {},
   "outputs": [],
   "source": [
    "data.head()"
   ]
  },
  {
   "cell_type": "code",
   "execution_count": null,
   "metadata": {},
   "outputs": [],
   "source": [
    "data.shape"
   ]
  },
  {
   "cell_type": "code",
   "execution_count": null,
   "metadata": {},
   "outputs": [],
   "source": [
    "data['Price']"
   ]
  },
  {
   "cell_type": "code",
   "execution_count": null,
   "metadata": {},
   "outputs": [],
   "source": []
  }
 ],
 "metadata": {
  "kernelspec": {
   "display_name": "Python 3",
   "language": "python",
   "name": "python3"
  },
  "language_info": {
   "codemirror_mode": {
    "name": "ipython",
    "version": 3
   },
   "file_extension": ".py",
   "mimetype": "text/x-python",
   "name": "python",
   "nbconvert_exporter": "python",
   "pygments_lexer": "ipython3",
   "version": "3.8.5"
  }
 },
 "nbformat": 4,
 "nbformat_minor": 4
}
